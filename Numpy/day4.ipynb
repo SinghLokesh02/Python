{
 "cells": [
  {
   "cell_type": "markdown",
   "metadata": {},
   "source": [
    "### Python List and NumPy Array\n"
   ]
  },
  {
   "cell_type": "markdown",
   "metadata": {},
   "source": [
    "#### List V/s array\n",
    "\n",
    "1. Faster operations in array\n",
    "2. Less memory consumption in array\n",
    "3. List can store different data types, array can't\n"
   ]
  },
  {
   "cell_type": "code",
   "execution_count": 5,
   "metadata": {},
   "outputs": [],
   "source": [
    "# Creating a list upto range 100\n",
    "\n",
    "import numpy as np\n",
    "import sys\n",
    "\n",
    "lista = range(100)\n",
    "arr = np.arange(100)"
   ]
  },
  {
   "cell_type": "code",
   "execution_count": 6,
   "metadata": {},
   "outputs": [
    {
     "name": "stdout",
     "output_type": "stream",
     "text": [
      "2800\n"
     ]
    }
   ],
   "source": [
    "# Get the size of Arrays and list\n",
    "print(sys.getsizeof(87) * len(lista))"
   ]
  },
  {
   "cell_type": "code",
   "execution_count": 7,
   "metadata": {},
   "outputs": [
    {
     "name": "stdout",
     "output_type": "stream",
     "text": [
      "400\n"
     ]
    }
   ],
   "source": [
    "# Get the size of numpy arrays\n",
    "print(arr.itemsize*arr.size)"
   ]
  },
  {
   "cell_type": "markdown",
   "metadata": {},
   "source": [
    "#### Numpy arrays are Faster"
   ]
  },
  {
   "cell_type": "markdown",
   "metadata": {},
   "source": []
  },
  {
   "cell_type": "code",
   "execution_count": 11,
   "metadata": {},
   "outputs": [
    {
     "name": "stdout",
     "output_type": "stream",
     "text": [
      "0.010987281799316406\n"
     ]
    }
   ],
   "source": [
    "import time\n",
    "\n",
    "# In List\n",
    "\n",
    "x = range(100000)\n",
    "y = range(100000,200000)\n",
    "\n",
    "start = time.time()\n",
    "c = [(x,y) for x,y in zip(x,y)]\n",
    "\n",
    "\n",
    "print(time.time()-start)"
   ]
  },
  {
   "cell_type": "code",
   "execution_count": 13,
   "metadata": {},
   "outputs": [
    {
     "name": "stdout",
     "output_type": "stream",
     "text": [
      "0.003002643585205078\n"
     ]
    }
   ],
   "source": [
    "import time\n",
    "\n",
    "# In python numpy arrays\n",
    "\n",
    "x = np.arange(100000)\n",
    "y = np.arange(100000,200000)\n",
    "\n",
    "start = time.time()\n",
    "c = x+y\n",
    "\n",
    "\n",
    "print(time.time()-start)"
   ]
  },
  {
   "cell_type": "code",
   "execution_count": null,
   "metadata": {},
   "outputs": [],
   "source": []
  }
 ],
 "metadata": {
  "kernelspec": {
   "display_name": "Python 3",
   "language": "python",
   "name": "python3"
  },
  "language_info": {
   "codemirror_mode": {
    "name": "ipython",
    "version": 3
   },
   "file_extension": ".py",
   "mimetype": "text/x-python",
   "name": "python",
   "nbconvert_exporter": "python",
   "pygments_lexer": "ipython3",
   "version": "3.11.4"
  }
 },
 "nbformat": 4,
 "nbformat_minor": 2
}
