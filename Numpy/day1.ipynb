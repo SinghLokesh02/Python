{
 "cells": [
  {
   "cell_type": "markdown",
   "metadata": {},
   "source": [
    "### Numpy Definition"
   ]
  },
  {
   "cell_type": "markdown",
   "metadata": {},
   "source": [
    "Wikipedia defines NumPy as an open-source numerical Python library that provides support for large, multi-dimensional arrays and matrices, along with a collection of mathematical functions to operate on these arrays. It is a fundamental package for numerical computing in Python. Implemented in C and Python, NumPy is the foundation for other libraries like Pandas, SciPy, and scikit-learn."
   ]
  },
  {
   "cell_type": "markdown",
   "metadata": {},
   "source": [
    "#### Application of Numpy\n",
    "\n",
    "NumPy is used for numerical and mathematical operations and is a fundamental package for scientific computing with Python. It is used for:\n",
    "\n",
    "1. Mathematical and logical operations on arrays.\n",
    "2. Fourier transforms and routines for shape manipulation.\n",
    "3. Operations related to linear algebra. NumPy has in-built functions for linear algebra and random number generation.\n",
    "\n"
   ]
  },
  {
   "cell_type": "code",
   "execution_count": null,
   "metadata": {},
   "outputs": [],
   "source": [
    "# Importing Numpy\n",
    "\n",
    "import numpy as np"
   ]
  },
  {
   "cell_type": "markdown",
   "metadata": {},
   "source": []
  }
 ],
 "metadata": {
  "kernelspec": {
   "display_name": "Python 3",
   "language": "python",
   "name": "python3"
  },
  "language_info": {
   "name": "python",
   "version": "3.11.4"
  }
 },
 "nbformat": 4,
 "nbformat_minor": 2
}
