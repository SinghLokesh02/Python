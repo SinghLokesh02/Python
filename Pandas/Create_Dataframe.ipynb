{
 "cells": [
  {
   "cell_type": "markdown",
   "metadata": {},
   "source": [
    "### Dataframe\n",
    "\n",
    "The Dataframe is a two-dimensional size-mutable, potentially heterogeneous tabular data structure with labeled axes (rows and columns). A Dataframe is a 2-dimensional labeled data structure with columns of potentially different types. You can think of it like a spreadsheet or SQL table, or a dict of Series objects. It is generally the most commonly used pandas object. Like Series, DataFrame accepts many different kinds of input:\n"
   ]
  },
  {
   "cell_type": "markdown",
   "metadata": {},
   "source": [
    "Create Dataframe Using Array\n"
   ]
  },
  {
   "cell_type": "code",
   "execution_count": 8,
   "metadata": {},
   "outputs": [],
   "source": [
    "import pandas as pd\n",
    "import numpy as np"
   ]
  },
  {
   "cell_type": "code",
   "execution_count": 9,
   "metadata": {},
   "outputs": [],
   "source": [
    "# Creating a DataFrame from a array\n",
    "\n",
    "data = np.array([[\"Tom\", \"Jack\", \"Steve\", \"Ricky\"], [28, 34, 29, 42]])\n",
    "ans = pd.DataFrame(data, index=[\"Name\", \"Age\"], columns=[1, 2, 3, 4])"
   ]
  },
  {
   "cell_type": "code",
   "execution_count": 10,
   "metadata": {},
   "outputs": [
    {
     "name": "stdout",
     "output_type": "stream",
     "text": [
      "        1     2      3      4\n",
      "Name  Tom  Jack  Steve  Ricky\n",
      "Age    28    34     29     42\n"
     ]
    }
   ],
   "source": [
    "# Show the dataframe\n",
    "print(ans)"
   ]
  },
  {
   "cell_type": "markdown",
   "metadata": {},
   "source": [
    "#### Creating Data Frame Using Dictionary\n"
   ]
  },
  {
   "cell_type": "code",
   "execution_count": 11,
   "metadata": {},
   "outputs": [],
   "source": [
    "Name = [\n",
    "    \"Lokesh Singh\",\n",
    "    \"Sonali Kummari\",\n",
    "    \"Diwakar Singh\",\n",
    "    \"Ritik Srivastav\",\n",
    "    \"Aniket Shivhare\",\n",
    "    \"Akshay Pathak\",\n",
    "]\n",
    "Role = [\n",
    "    \"Software Trainer\",\n",
    "    \"Developer\",\n",
    "    \"Coder and Developer\",\n",
    "    \"Speaker\",\n",
    "    \"Programmer\",\n",
    "    \"Army Officer\",\n",
    "]\n",
    "Age = [22, 24, 22, 23, 23, 24]"
   ]
  },
  {
   "cell_type": "code",
   "execution_count": 12,
   "metadata": {},
   "outputs": [],
   "source": [
    "Dict = {\"Name\": Name, \"Age\": Age, \"Job Title\": Role}\n",
    "# Creating a Dataframe\n",
    "data = pd.DataFrame(Dict)"
   ]
  },
  {
   "cell_type": "code",
   "execution_count": 13,
   "metadata": {},
   "outputs": [
    {
     "name": "stdout",
     "output_type": "stream",
     "text": [
      "              Name  Age            Job Title\n",
      "0     Lokesh Singh   22     Software Trainer\n",
      "1   Sonali Kummari   24            Developer\n",
      "2    Diwakar Singh   22  Coder and Developer\n",
      "3  Ritik Srivastav   23              Speaker\n",
      "4  Aniket Shivhare   23           Programmer\n",
      "5    Akshay Pathak   24         Army Officer\n"
     ]
    }
   ],
   "source": [
    "# Showing The Dataframe\n",
    "print(data)"
   ]
  },
  {
   "cell_type": "code",
   "execution_count": 18,
   "metadata": {},
   "outputs": [
    {
     "data": {
      "text/html": [
       "<div>\n",
       "<style scoped>\n",
       "    .dataframe tbody tr th:only-of-type {\n",
       "        vertical-align: middle;\n",
       "    }\n",
       "\n",
       "    .dataframe tbody tr th {\n",
       "        vertical-align: top;\n",
       "    }\n",
       "\n",
       "    .dataframe thead th {\n",
       "        text-align: right;\n",
       "    }\n",
       "</style>\n",
       "<table border=\"1\" class=\"dataframe\">\n",
       "  <thead>\n",
       "    <tr style=\"text-align: right;\">\n",
       "      <th></th>\n",
       "      <th>Name</th>\n",
       "      <th>Age</th>\n",
       "      <th>Job Title</th>\n",
       "    </tr>\n",
       "  </thead>\n",
       "  <tbody>\n",
       "    <tr>\n",
       "      <th>1</th>\n",
       "      <td>Lokesh Singh</td>\n",
       "      <td>22</td>\n",
       "      <td>Software Trainer</td>\n",
       "    </tr>\n",
       "    <tr>\n",
       "      <th>2</th>\n",
       "      <td>Sonali Kummari</td>\n",
       "      <td>24</td>\n",
       "      <td>Developer</td>\n",
       "    </tr>\n",
       "    <tr>\n",
       "      <th>3</th>\n",
       "      <td>Diwakar Singh</td>\n",
       "      <td>22</td>\n",
       "      <td>Coder and Developer</td>\n",
       "    </tr>\n",
       "    <tr>\n",
       "      <th>4</th>\n",
       "      <td>Ritik Srivastav</td>\n",
       "      <td>23</td>\n",
       "      <td>Speaker</td>\n",
       "    </tr>\n",
       "    <tr>\n",
       "      <th>5</th>\n",
       "      <td>Aniket Shivhare</td>\n",
       "      <td>23</td>\n",
       "      <td>Programmer</td>\n",
       "    </tr>\n",
       "    <tr>\n",
       "      <th>6</th>\n",
       "      <td>Akshay Pathak</td>\n",
       "      <td>24</td>\n",
       "      <td>Army Officer</td>\n",
       "    </tr>\n",
       "  </tbody>\n",
       "</table>\n",
       "</div>"
      ],
      "text/plain": [
       "              Name  Age            Job Title\n",
       "1     Lokesh Singh   22     Software Trainer\n",
       "2   Sonali Kummari   24            Developer\n",
       "3    Diwakar Singh   22  Coder and Developer\n",
       "4  Ritik Srivastav   23              Speaker\n",
       "5  Aniket Shivhare   23           Programmer\n",
       "6    Akshay Pathak   24         Army Officer"
      ]
     },
     "execution_count": 18,
     "metadata": {},
     "output_type": "execute_result"
    }
   ],
   "source": [
    "# Change The Index of dataframe\n",
    "data = pd.DataFrame(Dict, index=[1, 2, 3, 4, 5, 6])\n",
    "data"
   ]
  },
  {
   "cell_type": "markdown",
   "metadata": {},
   "source": [
    "#### Creating DataFrame Using CSV File\n"
   ]
  },
  {
   "cell_type": "code",
   "execution_count": 19,
   "metadata": {},
   "outputs": [],
   "source": [
    "# Reading The CSV File\n",
    "\n",
    "Read = pd.read_csv(\"CSV1.csv\")"
   ]
  },
  {
   "cell_type": "code",
   "execution_count": 23,
   "metadata": {},
   "outputs": [
    {
     "data": {
      "text/html": [
       "<div>\n",
       "<style scoped>\n",
       "    .dataframe tbody tr th:only-of-type {\n",
       "        vertical-align: middle;\n",
       "    }\n",
       "\n",
       "    .dataframe tbody tr th {\n",
       "        vertical-align: top;\n",
       "    }\n",
       "\n",
       "    .dataframe thead th {\n",
       "        text-align: right;\n",
       "    }\n",
       "</style>\n",
       "<table border=\"1\" class=\"dataframe\">\n",
       "  <thead>\n",
       "    <tr style=\"text-align: right;\">\n",
       "      <th></th>\n",
       "      <th>S.NO</th>\n",
       "      <th>Name</th>\n",
       "      <th>Role</th>\n",
       "      <th>Id</th>\n",
       "    </tr>\n",
       "  </thead>\n",
       "  <tbody>\n",
       "    <tr>\n",
       "      <th>0</th>\n",
       "      <td>1</td>\n",
       "      <td>Lokesh Singh</td>\n",
       "      <td>Trainer</td>\n",
       "      <td>1</td>\n",
       "    </tr>\n",
       "    <tr>\n",
       "      <th>1</th>\n",
       "      <td>2</td>\n",
       "      <td>Diwakar Singh</td>\n",
       "      <td>Coder &amp; Developer</td>\n",
       "      <td>2</td>\n",
       "    </tr>\n",
       "    <tr>\n",
       "      <th>2</th>\n",
       "      <td>3</td>\n",
       "      <td>Sonali Kumari</td>\n",
       "      <td>Software Enginner</td>\n",
       "      <td>3</td>\n",
       "    </tr>\n",
       "    <tr>\n",
       "      <th>3</th>\n",
       "      <td>4</td>\n",
       "      <td>Vimal Kant</td>\n",
       "      <td>UI/UX</td>\n",
       "      <td>4</td>\n",
       "    </tr>\n",
       "    <tr>\n",
       "      <th>4</th>\n",
       "      <td>5</td>\n",
       "      <td>Aniket Shivahre</td>\n",
       "      <td>Developer</td>\n",
       "      <td>5</td>\n",
       "    </tr>\n",
       "  </tbody>\n",
       "</table>\n",
       "</div>"
      ],
      "text/plain": [
       "   S.NO             Name               Role  Id\n",
       "0     1     Lokesh Singh            Trainer   1\n",
       "1     2    Diwakar Singh  Coder & Developer   2\n",
       "2     3    Sonali Kumari  Software Enginner   3\n",
       "3     4       Vimal Kant              UI/UX   4\n",
       "4     5  Aniket Shivahre          Developer   5"
      ]
     },
     "execution_count": 23,
     "metadata": {},
     "output_type": "execute_result"
    }
   ],
   "source": [
    "# Show First 5 Rows of CSV File\n",
    "Read.head()"
   ]
  },
  {
   "cell_type": "code",
   "execution_count": 22,
   "metadata": {},
   "outputs": [
    {
     "data": {
      "text/html": [
       "<div>\n",
       "<style scoped>\n",
       "    .dataframe tbody tr th:only-of-type {\n",
       "        vertical-align: middle;\n",
       "    }\n",
       "\n",
       "    .dataframe tbody tr th {\n",
       "        vertical-align: top;\n",
       "    }\n",
       "\n",
       "    .dataframe thead th {\n",
       "        text-align: right;\n",
       "    }\n",
       "</style>\n",
       "<table border=\"1\" class=\"dataframe\">\n",
       "  <thead>\n",
       "    <tr style=\"text-align: right;\">\n",
       "      <th></th>\n",
       "      <th>S.NO</th>\n",
       "      <th>Name</th>\n",
       "      <th>Role</th>\n",
       "      <th>Id</th>\n",
       "    </tr>\n",
       "  </thead>\n",
       "  <tbody>\n",
       "    <tr>\n",
       "      <th>5</th>\n",
       "      <td>6</td>\n",
       "      <td>Akshay Pathak</td>\n",
       "      <td>Army Officer</td>\n",
       "      <td>6</td>\n",
       "    </tr>\n",
       "    <tr>\n",
       "      <th>6</th>\n",
       "      <td>7</td>\n",
       "      <td>Ritik Srivastav</td>\n",
       "      <td>Speaker</td>\n",
       "      <td>7</td>\n",
       "    </tr>\n",
       "    <tr>\n",
       "      <th>7</th>\n",
       "      <td>8</td>\n",
       "      <td>Akash Singh</td>\n",
       "      <td>Fronted Developer</td>\n",
       "      <td>8</td>\n",
       "    </tr>\n",
       "    <tr>\n",
       "      <th>8</th>\n",
       "      <td>9</td>\n",
       "      <td>Durgesh Singh</td>\n",
       "      <td>Copy Writer</td>\n",
       "      <td>9</td>\n",
       "    </tr>\n",
       "    <tr>\n",
       "      <th>9</th>\n",
       "      <td>10</td>\n",
       "      <td>Prakash Pandey</td>\n",
       "      <td>Story Teller</td>\n",
       "      <td>10</td>\n",
       "    </tr>\n",
       "  </tbody>\n",
       "</table>\n",
       "</div>"
      ],
      "text/plain": [
       "   S.NO             Name               Role  Id\n",
       "5     6    Akshay Pathak       Army Officer   6\n",
       "6     7  Ritik Srivastav            Speaker   7\n",
       "7     8      Akash Singh  Fronted Developer   8\n",
       "8     9    Durgesh Singh        Copy Writer   9\n",
       "9    10   Prakash Pandey       Story Teller  10"
      ]
     },
     "execution_count": 22,
     "metadata": {},
     "output_type": "execute_result"
    }
   ],
   "source": [
    "# Show Last 5 Rows of dataframe\n",
    "Read.tail()"
   ]
  },
  {
   "cell_type": "code",
   "execution_count": 24,
   "metadata": {},
   "outputs": [
    {
     "data": {
      "text/html": [
       "<div>\n",
       "<style scoped>\n",
       "    .dataframe tbody tr th:only-of-type {\n",
       "        vertical-align: middle;\n",
       "    }\n",
       "\n",
       "    .dataframe tbody tr th {\n",
       "        vertical-align: top;\n",
       "    }\n",
       "\n",
       "    .dataframe thead th {\n",
       "        text-align: right;\n",
       "    }\n",
       "</style>\n",
       "<table border=\"1\" class=\"dataframe\">\n",
       "  <thead>\n",
       "    <tr style=\"text-align: right;\">\n",
       "      <th></th>\n",
       "      <th>S.NO</th>\n",
       "      <th>Name</th>\n",
       "      <th>Role</th>\n",
       "      <th>Id</th>\n",
       "    </tr>\n",
       "  </thead>\n",
       "  <tbody>\n",
       "    <tr>\n",
       "      <th>3</th>\n",
       "      <td>4</td>\n",
       "      <td>Vimal Kant</td>\n",
       "      <td>UI/UX</td>\n",
       "      <td>4</td>\n",
       "    </tr>\n",
       "    <tr>\n",
       "      <th>4</th>\n",
       "      <td>5</td>\n",
       "      <td>Aniket Shivahre</td>\n",
       "      <td>Developer</td>\n",
       "      <td>5</td>\n",
       "    </tr>\n",
       "    <tr>\n",
       "      <th>5</th>\n",
       "      <td>6</td>\n",
       "      <td>Akshay Pathak</td>\n",
       "      <td>Army Officer</td>\n",
       "      <td>6</td>\n",
       "    </tr>\n",
       "    <tr>\n",
       "      <th>6</th>\n",
       "      <td>7</td>\n",
       "      <td>Ritik Srivastav</td>\n",
       "      <td>Speaker</td>\n",
       "      <td>7</td>\n",
       "    </tr>\n",
       "    <tr>\n",
       "      <th>7</th>\n",
       "      <td>8</td>\n",
       "      <td>Akash Singh</td>\n",
       "      <td>Fronted Developer</td>\n",
       "      <td>8</td>\n",
       "    </tr>\n",
       "    <tr>\n",
       "      <th>8</th>\n",
       "      <td>9</td>\n",
       "      <td>Durgesh Singh</td>\n",
       "      <td>Copy Writer</td>\n",
       "      <td>9</td>\n",
       "    </tr>\n",
       "    <tr>\n",
       "      <th>9</th>\n",
       "      <td>10</td>\n",
       "      <td>Prakash Pandey</td>\n",
       "      <td>Story Teller</td>\n",
       "      <td>10</td>\n",
       "    </tr>\n",
       "  </tbody>\n",
       "</table>\n",
       "</div>"
      ],
      "text/plain": [
       "   S.NO             Name               Role  Id\n",
       "3     4       Vimal Kant              UI/UX   4\n",
       "4     5  Aniket Shivahre          Developer   5\n",
       "5     6    Akshay Pathak       Army Officer   6\n",
       "6     7  Ritik Srivastav            Speaker   7\n",
       "7     8      Akash Singh  Fronted Developer   8\n",
       "8     9    Durgesh Singh        Copy Writer   9\n",
       "9    10   Prakash Pandey       Story Teller  10"
      ]
     },
     "execution_count": 24,
     "metadata": {},
     "output_type": "execute_result"
    }
   ],
   "source": [
    "# Show Last n rows of Dataframe of CSV File\n",
    "Read.tail(7)"
   ]
  },
  {
   "cell_type": "code",
   "execution_count": 25,
   "metadata": {},
   "outputs": [
    {
     "data": {
      "text/plain": [
       "(10, 4)"
      ]
     },
     "execution_count": 25,
     "metadata": {},
     "output_type": "execute_result"
    }
   ],
   "source": [
    "# Getting to the Shape Attribute\n",
    "Read.shape"
   ]
  },
  {
   "cell_type": "code",
   "execution_count": 29,
   "metadata": {},
   "outputs": [
    {
     "name": "stdout",
     "output_type": "stream",
     "text": [
      "(636, 18)\n"
     ]
    }
   ],
   "source": [
    "# Display all rows of the Data\n",
    "\n",
    "# Read The big CSV File\n",
    "Match_data = pd.read_csv(\"matches - matches.csv\")\n",
    "\n",
    "# Print The Shape of The CSV File\n",
    "print(Match_data.shape)\n",
    "\n",
    "# Print all the rows\n",
    "pd.set_option(\"display.max_rows\", 636)\n",
    "\n",
    "# Just Print The dataframe and you will get all the rows"
   ]
  },
  {
   "cell_type": "code",
   "execution_count": null,
   "metadata": {},
   "outputs": [],
   "source": []
  }
 ],
 "metadata": {
  "kernelspec": {
   "display_name": "Python 3",
   "language": "python",
   "name": "python3"
  },
  "language_info": {
   "codemirror_mode": {
    "name": "ipython",
    "version": 3
   },
   "file_extension": ".py",
   "mimetype": "text/x-python",
   "name": "python",
   "nbconvert_exporter": "python",
   "pygments_lexer": "ipython3",
   "version": "3.11.4"
  }
 },
 "nbformat": 4,
 "nbformat_minor": 2
}
